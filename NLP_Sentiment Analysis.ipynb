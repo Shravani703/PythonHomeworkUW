{
  "nbformat": 4,
  "nbformat_minor": 0,
  "metadata": {
    "colab": {
      "provenance": [],
      "include_colab_link": true
    },
    "kernelspec": {
      "name": "python3",
      "display_name": "Python 3"
    }
  },
  "cells": [
    {
      "cell_type": "markdown",
      "metadata": {
        "id": "view-in-github",
        "colab_type": "text"
      },
      "source": [
        "<a href=\"https://colab.research.google.com/github/Shravani703/PythonHomeworkUW/blob/main/NLP_Sentiment%20Analysis.ipynb\" target=\"_parent\"><img src=\"https://colab.research.google.com/assets/colab-badge.svg\" alt=\"Open In Colab\"/></a>"
      ]
    },
    {
      "cell_type": "markdown",
      "source": [
        "**This a sentiment analysis assignment completed for my machine learning methods class of my graduate program in the winter quarter.**"
      ],
      "metadata": {
        "id": "QxgqkEyG7ABv"
      }
    },
    {
      "cell_type": "code",
      "metadata": {
        "id": "XraaiIxdBM9X"
      },
      "source": [
        "import pandas as pd\n",
        "import matplotlib.pyplot as plt\n",
        "import numpy as np\n",
        "import seaborn as sns\n",
        "import string\n",
        "%matplotlib inline\n",
        "\n",
        "# sklearn specific imports \n",
        "from sklearn.feature_extraction import DictVectorizer\n",
        "from sklearn.feature_extraction.text import CountVectorizer\n",
        "from sklearn.linear_model import LogisticRegression\n",
        "from sklearn.model_selection import train_test_split\n",
        "from sklearn.decomposition import PCA\n",
        "from sklearn.preprocessing import StandardScaler\n",
        "from sklearn.metrics import accuracy_score\n",
        "\n",
        "from gensim.models import Word2Vec\n"
      ],
      "execution_count": null,
      "outputs": []
    },
    {
      "cell_type": "markdown",
      "metadata": {
        "id": "5L5KWMjGB52D"
      },
      "source": [
        "### Part 0: Load and Clean Data"
      ]
    },
    {
      "cell_type": "code",
      "metadata": {
        "id": "QrMCzZc9BlRf",
        "outputId": "a4aaf530-08d1-4898-fa0c-a5746f817750",
        "colab": {
          "base_uri": "https://localhost:8080/",
          "height": 315
        }
      },
      "source": [
        "products = pd.read_csv('products.csv')\n",
        "products = products.iloc[0:5000] # For the sake of computation, we will only look at 5000 reviews\n",
        "print('Number of reviews:', len(products))\n",
        "print('Dataframe Columns', products.columns)\n",
        "# Let's look at a specific product\n",
        "print('Name:', products.iloc[0]['name'])\n",
        "print('Review:', products.iloc[0]['review'])\n",
        "print('Rating:', products.iloc[0]['rating'])\n",
        "\n",
        "# REMOVE products with review equal to 3\n",
        "products = products[products['rating'] != 3]\n",
        "\n",
        "def remove_punctuation(text):\n",
        "    if type(text) != str:\n",
        "        return ''\n",
        "    return text.translate(str.maketrans('', '', string.punctuation))\n",
        "\n",
        "products['review'] = products['review'].apply(remove_punctuation)\n",
        "len(products)\n",
        "products['sentiment'] = products['rating'].apply(lambda rating : +1 if rating > 3 else -1)\n",
        "products.head()"
      ],
      "execution_count": null,
      "outputs": [
        {
          "output_type": "stream",
          "name": "stdout",
          "text": [
            "Number of reviews: 5000\n",
            "Dataframe Columns Index(['name', 'review', 'rating'], dtype='object')\n",
            "Name: Stop Pacifier Sucking without tears with Thumbuddy To Love's Binky Fairy Puppet and Adorable Book\n",
            "Review: All of my kids have cried non-stop when I tried to ween them off their pacifier, until I found Thumbuddy To Love's Binky Fairy Puppet.  It is an easy way to work with your kids to allow them to understand where their pacifier is going and help them part from it.This is a must buy book, and a great gift for expecting parents!!  You will save them soo many headaches.Thanks for this book!  You all rock!!\n",
            "Rating: 5\n"
          ]
        },
        {
          "output_type": "execute_result",
          "data": {
            "text/plain": [
              "                                                name  \\\n",
              "0  Stop Pacifier Sucking without tears with Thumb...   \n",
              "1    Nature's Lullabies Second Year Sticker Calendar   \n",
              "2    Nature's Lullabies Second Year Sticker Calendar   \n",
              "3    Nature's Lullabies Second Year Sticker Calendar   \n",
              "4                        Lamaze Peekaboo, I Love You   \n",
              "\n",
              "                                              review  rating  sentiment  \n",
              "0  All of my kids have cried nonstop when I tried...       5          1  \n",
              "1  We wanted to get something to keep track of ou...       5          1  \n",
              "2  I only purchased a secondyear calendar for my ...       2         -1  \n",
              "3  My daughter had her 1st baby over a year ago S...       5          1  \n",
              "4  One of babys first and favorite books and it i...       4          1  "
            ],
            "text/html": [
              "\n",
              "  <div id=\"df-9474419b-b388-497b-82b2-be36646b8fe1\">\n",
              "    <div class=\"colab-df-container\">\n",
              "      <div>\n",
              "<style scoped>\n",
              "    .dataframe tbody tr th:only-of-type {\n",
              "        vertical-align: middle;\n",
              "    }\n",
              "\n",
              "    .dataframe tbody tr th {\n",
              "        vertical-align: top;\n",
              "    }\n",
              "\n",
              "    .dataframe thead th {\n",
              "        text-align: right;\n",
              "    }\n",
              "</style>\n",
              "<table border=\"1\" class=\"dataframe\">\n",
              "  <thead>\n",
              "    <tr style=\"text-align: right;\">\n",
              "      <th></th>\n",
              "      <th>name</th>\n",
              "      <th>review</th>\n",
              "      <th>rating</th>\n",
              "      <th>sentiment</th>\n",
              "    </tr>\n",
              "  </thead>\n",
              "  <tbody>\n",
              "    <tr>\n",
              "      <th>0</th>\n",
              "      <td>Stop Pacifier Sucking without tears with Thumb...</td>\n",
              "      <td>All of my kids have cried nonstop when I tried...</td>\n",
              "      <td>5</td>\n",
              "      <td>1</td>\n",
              "    </tr>\n",
              "    <tr>\n",
              "      <th>1</th>\n",
              "      <td>Nature's Lullabies Second Year Sticker Calendar</td>\n",
              "      <td>We wanted to get something to keep track of ou...</td>\n",
              "      <td>5</td>\n",
              "      <td>1</td>\n",
              "    </tr>\n",
              "    <tr>\n",
              "      <th>2</th>\n",
              "      <td>Nature's Lullabies Second Year Sticker Calendar</td>\n",
              "      <td>I only purchased a secondyear calendar for my ...</td>\n",
              "      <td>2</td>\n",
              "      <td>-1</td>\n",
              "    </tr>\n",
              "    <tr>\n",
              "      <th>3</th>\n",
              "      <td>Nature's Lullabies Second Year Sticker Calendar</td>\n",
              "      <td>My daughter had her 1st baby over a year ago S...</td>\n",
              "      <td>5</td>\n",
              "      <td>1</td>\n",
              "    </tr>\n",
              "    <tr>\n",
              "      <th>4</th>\n",
              "      <td>Lamaze Peekaboo, I Love You</td>\n",
              "      <td>One of babys first and favorite books and it i...</td>\n",
              "      <td>4</td>\n",
              "      <td>1</td>\n",
              "    </tr>\n",
              "  </tbody>\n",
              "</table>\n",
              "</div>\n",
              "      <button class=\"colab-df-convert\" onclick=\"convertToInteractive('df-9474419b-b388-497b-82b2-be36646b8fe1')\"\n",
              "              title=\"Convert this dataframe to an interactive table.\"\n",
              "              style=\"display:none;\">\n",
              "        \n",
              "  <svg xmlns=\"http://www.w3.org/2000/svg\" height=\"24px\"viewBox=\"0 0 24 24\"\n",
              "       width=\"24px\">\n",
              "    <path d=\"M0 0h24v24H0V0z\" fill=\"none\"/>\n",
              "    <path d=\"M18.56 5.44l.94 2.06.94-2.06 2.06-.94-2.06-.94-.94-2.06-.94 2.06-2.06.94zm-11 1L8.5 8.5l.94-2.06 2.06-.94-2.06-.94L8.5 2.5l-.94 2.06-2.06.94zm10 10l.94 2.06.94-2.06 2.06-.94-2.06-.94-.94-2.06-.94 2.06-2.06.94z\"/><path d=\"M17.41 7.96l-1.37-1.37c-.4-.4-.92-.59-1.43-.59-.52 0-1.04.2-1.43.59L10.3 9.45l-7.72 7.72c-.78.78-.78 2.05 0 2.83L4 21.41c.39.39.9.59 1.41.59.51 0 1.02-.2 1.41-.59l7.78-7.78 2.81-2.81c.8-.78.8-2.07 0-2.86zM5.41 20L4 18.59l7.72-7.72 1.47 1.35L5.41 20z\"/>\n",
              "  </svg>\n",
              "      </button>\n",
              "      \n",
              "  <style>\n",
              "    .colab-df-container {\n",
              "      display:flex;\n",
              "      flex-wrap:wrap;\n",
              "      gap: 12px;\n",
              "    }\n",
              "\n",
              "    .colab-df-convert {\n",
              "      background-color: #E8F0FE;\n",
              "      border: none;\n",
              "      border-radius: 50%;\n",
              "      cursor: pointer;\n",
              "      display: none;\n",
              "      fill: #1967D2;\n",
              "      height: 32px;\n",
              "      padding: 0 0 0 0;\n",
              "      width: 32px;\n",
              "    }\n",
              "\n",
              "    .colab-df-convert:hover {\n",
              "      background-color: #E2EBFA;\n",
              "      box-shadow: 0px 1px 2px rgba(60, 64, 67, 0.3), 0px 1px 3px 1px rgba(60, 64, 67, 0.15);\n",
              "      fill: #174EA6;\n",
              "    }\n",
              "\n",
              "    [theme=dark] .colab-df-convert {\n",
              "      background-color: #3B4455;\n",
              "      fill: #D2E3FC;\n",
              "    }\n",
              "\n",
              "    [theme=dark] .colab-df-convert:hover {\n",
              "      background-color: #434B5C;\n",
              "      box-shadow: 0px 1px 3px 1px rgba(0, 0, 0, 0.15);\n",
              "      filter: drop-shadow(0px 1px 2px rgba(0, 0, 0, 0.3));\n",
              "      fill: #FFFFFF;\n",
              "    }\n",
              "  </style>\n",
              "\n",
              "      <script>\n",
              "        const buttonEl =\n",
              "          document.querySelector('#df-9474419b-b388-497b-82b2-be36646b8fe1 button.colab-df-convert');\n",
              "        buttonEl.style.display =\n",
              "          google.colab.kernel.accessAllowed ? 'block' : 'none';\n",
              "\n",
              "        async function convertToInteractive(key) {\n",
              "          const element = document.querySelector('#df-9474419b-b388-497b-82b2-be36646b8fe1');\n",
              "          const dataTable =\n",
              "            await google.colab.kernel.invokeFunction('convertToInteractive',\n",
              "                                                     [key], {});\n",
              "          if (!dataTable) return;\n",
              "\n",
              "          const docLinkHtml = 'Like what you see? Visit the ' +\n",
              "            '<a target=\"_blank\" href=https://colab.research.google.com/notebooks/data_table.ipynb>data table notebook</a>'\n",
              "            + ' to learn more about interactive tables.';\n",
              "          element.innerHTML = '';\n",
              "          dataTable['output_type'] = 'display_data';\n",
              "          await google.colab.output.renderOutput(dataTable, element);\n",
              "          const docLink = document.createElement('div');\n",
              "          docLink.innerHTML = docLinkHtml;\n",
              "          element.appendChild(docLink);\n",
              "        }\n",
              "      </script>\n",
              "    </div>\n",
              "  </div>\n",
              "  "
            ]
          },
          "metadata": {},
          "execution_count": 2
        }
      ]
    },
    {
      "cell_type": "code",
      "source": [
        "from google.colab import drive\n",
        "drive.mount('/content/drive')"
      ],
      "metadata": {
        "colab": {
          "base_uri": "https://localhost:8080/"
        },
        "id": "fDpt1RM-pss1",
        "outputId": "7f73e224-67d2-49c8-d2fa-8b6fbdd32df2"
      },
      "execution_count": null,
      "outputs": [
        {
          "output_type": "stream",
          "name": "stdout",
          "text": [
            "Mounted at /content/drive\n"
          ]
        }
      ]
    },
    {
      "cell_type": "code",
      "metadata": {
        "id": "ZjFaReqb69PH"
      },
      "source": [
        "products_train, products_test = train_test_split(products, test_size = 0.2, random_state = 1)"
      ],
      "execution_count": null,
      "outputs": []
    },
    {
      "cell_type": "markdown",
      "metadata": {
        "id": "QCIsieDzPdbh"
      },
      "source": [
        "### A majority classifier\n",
        "\n",
        "A reasonable first classifier is to figure out what the majority sentiment is in the training set and use that as a predictor on the test set."
      ]
    },
    {
      "cell_type": "code",
      "metadata": {
        "id": "LS9iTN2sQgk6",
        "outputId": "a7af56bf-7faf-43df-c1cf-52e8cb4258c7",
        "colab": {
          "base_uri": "https://localhost:8080/"
        }
      },
      "source": [
        "# find the majority class (positive or negative) in the training set\n",
        "majority_sentiment = products_train['sentiment'].mode()[0]\n",
        "\n",
        "# predict how well this will do on the test set\n",
        "products_test['predicted_sentiment'] = majority_sentiment\n",
        "accuracy = (products_test['sentiment'] == products_test['predicted_sentiment']).mean()\n",
        "print('Accuracy:', accuracy)"
      ],
      "execution_count": null,
      "outputs": [
        {
          "output_type": "stream",
          "name": "stdout",
          "text": [
            "Accuracy: 0.586\n"
          ]
        }
      ]
    },
    {
      "cell_type": "markdown",
      "metadata": {
        "id": "2IAQ6ft6RAJ-"
      },
      "source": [
        "### Featurizing sentences"
      ]
    },
    {
      "cell_type": "markdown",
      "metadata": {
        "id": "7pUfC3He5Lmg"
      },
      "source": [
        "Now we will use a ``CountVectorizer`` to turn our reviews, which our sentences, into features. "
      ]
    },
    {
      "cell_type": "code",
      "metadata": {
        "id": "It4D_H3i5K5o",
        "outputId": "082d7d75-3b73-496b-d74d-37f3bdf378f3",
        "colab": {
          "base_uri": "https://localhost:8080/"
        }
      },
      "source": [
        "count_vectorizer = CountVectorizer(lowercase=True, token_pattern=u\"(?u)\\\\b\\\\w+\\\\b\", stop_words='english')\n",
        "X_train = count_vectorizer.fit_transform(products_train['review'])\n",
        "y_train = products_train['sentiment']\n",
        "\n",
        "words = count_vectorizer.get_feature_names_out()\n",
        "print(words) # show the vocabulary that it builds from the reviews in the training set\n",
        "\n",
        "# The two numbers printed out should match\n",
        "print('vocab in count_vectorizer:', len(count_vectorizer.get_feature_names_out()), 'dimension of X', X_train.shape[1])\n",
        "\n",
        "# We \"trained\" our count-vectorizer on the train set, now we run it on the test-set\n",
        "X_test = count_vectorizer.transform(products_test['review'])\n",
        "y_test = products_test['sentiment']\n",
        "\n",
        "# Finally we build a tokenizer\n",
        "tokenizer = count_vectorizer.build_analyzer() # We will use this later to tokenize our sentences"
      ],
      "execution_count": null,
      "outputs": [
        {
          "output_type": "stream",
          "name": "stdout",
          "text": [
            "['0' '001' '01' ... 'zoo' 'zookeepers' 'zoos']\n",
            "vocab in count_vectorizer: 14802 dimension of X 14802\n"
          ]
        }
      ]
    },
    {
      "cell_type": "code",
      "source": [
        "count_vectorizer.get_feature_names_out"
      ],
      "metadata": {
        "id": "ZaGoWqf3oPgX",
        "outputId": "902f75fd-5212-4af8-8f85-94a4ab5e9e8d",
        "colab": {
          "base_uri": "https://localhost:8080/"
        }
      },
      "execution_count": null,
      "outputs": [
        {
          "output_type": "execute_result",
          "data": {
            "text/plain": [
              "<bound method CountVectorizer.get_feature_names_out of CountVectorizer(stop_words='english', token_pattern='(?u)\\\\b\\\\w+\\\\b')>"
            ]
          },
          "metadata": {},
          "execution_count": 6
        }
      ]
    },
    {
      "cell_type": "markdown",
      "metadata": {
        "id": "TkfOFjI1YU1t"
      },
      "source": [
        "**Question:** Why does a train and test set matter in this case? What is something that you may learn on the training set that does not appear in the test set?\n",
        "\n",
        "*Your answer here*\n",
        "\n",
        "Training and testing set both are important in sentiment analysis because it helps in evaluating the prformance/accuracy of the problem. The model forms a good relationship between the input feature and output which helps in predicting the ouput on testing data set. Testing set may contain such words that training set might not contain, therefore evaluation of performance on testing set becomes crucial.\n",
        "\n",
        "Here, the CountVectorizer is fitted onto the training dataset only. The frequencies of the words are learned here, and then they are applied to the test set to estimate the performance of the algorithm."
      ]
    },
    {
      "cell_type": "markdown",
      "metadata": {
        "id": "BnJTBPT8It5l"
      },
      "source": [
        "### Build a Logistic Regression Classifier on Bag of Words Features\n",
        "\n",
        "Now we build a logistic classifier on our resulting feature representation. The logistic regression classifier is effectively going to learn a feature per word in our list of words on the training set from above. The parameter $C = 1/\\lambda$ is the regularization parameter specified as the inverse of $\\lambda$. Setting $C=1e25$ is like setting $\\lambda = 0$."
      ]
    },
    {
      "cell_type": "code",
      "metadata": {
        "id": "2iQF2fB47jUQ"
      },
      "source": [
        "# Train a logisitic regression model on the training set\n",
        "lr = LogisticRegression()\n",
        "sentiment_model = lr.fit(X_train, y_train) "
      ],
      "execution_count": null,
      "outputs": []
    },
    {
      "cell_type": "markdown",
      "metadata": {
        "id": "O1mEbmW18z1i"
      },
      "source": [
        "Now we can use this model to make predictions."
      ]
    },
    {
      "cell_type": "code",
      "metadata": {
        "id": "xXyqdzbL84Ve",
        "outputId": "5a0aad45-0e59-4c86-fb08-ca5b97029485",
        "colab": {
          "base_uri": "https://localhost:8080/"
        }
      },
      "source": [
        "sample_test_data = X_test[1:11]\n",
        "# use sentiment_model.predict_proba to get the predicted probabilities for these three exmaples\n",
        "predicted_prob = sentiment_model.predict_proba(sample_test_data)\n",
        "\n",
        "pred_prob = predicted_prob[:,1]\n",
        "pred = (pred_prob >= 0.5).astype(int) * 2-1\n",
        "print(pred)\n",
        "#print(predicted_prob[:3])\n",
        "#y_pred = lr.predict(X_test)\n",
        "#acc = accuracy_score(y_test, y_pred)\n",
        "#print(acc)\n",
        "print(y_test[1:11])\n",
        "accuracy = (pred == y_test[1:11]).mean()\n",
        "print(accuracy)"
      ],
      "execution_count": null,
      "outputs": [
        {
          "output_type": "stream",
          "name": "stdout",
          "text": [
            "[-1 -1  1  1 -1 -1 -1 -1  1  1]\n",
            "4767   -1\n",
            "3814   -1\n",
            "3499   -1\n",
            "2735    1\n",
            "3922    1\n",
            "2701   -1\n",
            "1179   -1\n",
            "932    -1\n",
            "792     1\n",
            "1852    1\n",
            "Name: sentiment, dtype: int64\n",
            "0.8\n"
          ]
        }
      ]
    },
    {
      "cell_type": "markdown",
      "metadata": {
        "id": "3_HoaK7YZ3Ld"
      },
      "source": [
        "**Question:** For this set, check if the majority predicted probability matches the true label. What is your accuracy?\n",
        "\n",
        "Accuracy : 0.8\n"
      ]
    },
    {
      "cell_type": "code",
      "metadata": {
        "id": "F7n4eeispLG5",
        "outputId": "690defb6-e7b9-420a-beab-55f5cff39edd",
        "colab": {
          "base_uri": "https://localhost:8080/"
        }
      },
      "source": [
        "print(list(zip(words[1500:1520],sentiment_model.coef_[0,1500:1520])))"
      ],
      "execution_count": null,
      "outputs": [
        {
          "output_type": "stream",
          "name": "stdout",
          "text": [
            "[('bathsi', -0.01879155131918723), ('baththe', 0.08114320284308224), ('bathtime', 0.09278254596438429), ('bathtimeand', -9.306374813260803e-05), ('bathtub', 0.4713882990122745), ('bathtubs', 0.20648651945610857), ('bathtubthe', -0.012675606301970671), ('bathtubthis', 0.05923402067021712), ('batiste', -0.04019695452466787), ('batted', 0.04047100300667036), ('battered', 0.015435312115969279), ('batteries', -0.7777566448284221), ('batteries3', -0.0007042062391138165), ('batteriesnow', -0.00835076210828282), ('battery', -0.672336811637484), ('batterytake', -9.641504853212602e-06), ('batting', -0.012246095625858069), ('battle', -0.01637143240296546), ('bauer', -0.3547659435743857), ('baught', -0.05601071173644782)]\n"
          ]
        }
      ]
    },
    {
      "cell_type": "code",
      "metadata": {
        "id": "QRGs01nQm28Y",
        "outputId": "1427ab36-35c4-4dc6-a2e5-57fbc5c4822d",
        "colab": {
          "base_uri": "https://localhost:8080/"
        }
      },
      "source": [
        "# get 5 largest indices\n",
        "coeff = sentiment_model.coef_[0]\n",
        "words = count_vectorizer.get_feature_names_out()\n",
        "\n",
        "large_coeff = np.argsort(coeff)[::-1][:5]\n",
        "print(large_coeff)\n",
        "\n",
        "small_coeff = np.argsort(coeff)[::1][:5]\n",
        "print(small_coeff)\n",
        "\n",
        "ltwords = [words[i] for i in large_coeff]\n",
        "stwords = [words[i] for i in small_coeff]\n",
        "print(ltwords)\n",
        "print(stwords)"
      ],
      "execution_count": null,
      "outputs": [
        {
          "output_type": "stream",
          "name": "stdout",
          "text": [
            "[7585 6190 7593 4379 1637]\n",
            "[ 3905 10767 12948  2950 14269]\n",
            "['love', 'highly', 'loves', 'easy', 'best']\n",
            "['disappointed', 'returned', 'terrible', 'concept', 'waste']\n"
          ]
        }
      ]
    },
    {
      "cell_type": "markdown",
      "metadata": {
        "id": "QlVDjudaI2p9"
      },
      "source": [
        "### Assessing the Bag of words model\n",
        "\n",
        "We will now use the model to build a confusion matrix. A common tool that helps assess classification models is the confusion matrix.\n",
        "\n",
        "We've created a function that will plot a confusion matrix for you given a set of inputs which are the values that should appear within each cell.\n",
        "Recall that there are four values associated with a confusion matrix: true positive, true negative, false positive, and false negative which we will abberviate as TP, TN, FP, and FN, respecitvely. "
      ]
    },
    {
      "cell_type": "code",
      "metadata": {
        "id": "s51wvFKPSn7X"
      },
      "source": [
        "def plot_confusion_matrix(tp, fp, fn, tn):\n",
        "    \"\"\"\n",
        "    Plots a confusion matrix using the values \n",
        "       tp - True Positive\n",
        "       fp - False Positive\n",
        "       fn - False Negative\n",
        "       tn - True Negative\n",
        "    \"\"\"\n",
        "    data = np.matrix([[tp, fp], [fn, tn]])\n",
        "    \n",
        "    sns.heatmap(data, annot=True, cmap='YlGnBu',\n",
        "                xticklabels=['Actual Pos.', 'Actual Neg.'], \n",
        "                yticklabels=['Pred. Pos.', 'Pred. Neg.'])"
      ],
      "execution_count": null,
      "outputs": []
    },
    {
      "cell_type": "code",
      "metadata": {
        "id": "k8492CwFSpBx",
        "outputId": "f148a27f-7389-4ce9-94e6-09ce82c9734b",
        "colab": {
          "base_uri": "https://localhost:8080/",
          "height": 283
        }
      },
      "source": [
        "tp = 0\n",
        "fp = 0\n",
        "tn = 0\n",
        "fn = 0\n",
        "i = 0\n",
        "pred = sentiment_model.predict(X_test)\n",
        "\n",
        "# Compute the number of true positives, false positives, true negatives, false negatives\n",
        "# on the test set. \n",
        "y_test1 = np.array(y_test)\n",
        "for y_true, y_pred in zip(y_test1, pred):\n",
        "    #print(y_true, y_pred)\n",
        "    if y_true == 1 and y_pred == 1:\n",
        "        tp += 1\n",
        "    elif y_true == -1 and y_pred == 1:\n",
        "        fp += 1\n",
        "    elif y_true == -1 and y_pred == -1:\n",
        "        tn += 1\n",
        "    elif y_true == 1 and y_pred == -1:\n",
        "        fn += 1\n",
        "plot_confusion_matrix(tp=tp, fp=fp, fn=fn, tn=tn)\n",
        "print(tp, fp, tn , fn)\n",
        "'''from sklearn.metrics import confusion_matrix\n",
        "conf_mat = confusion_matrix(y_test, pred)\n",
        "print(conf_mat)\n",
        "\n",
        "tp = conf_mat[1, 1]\n",
        "fp = conf_mat[0, 1]\n",
        "tn = conf_mat[0, 0]\n",
        "fn = conf_mat[1, 0]'''\n",
        "\n",
        "plot_confusion_matrix(tp=tp, fp=fp, tn=tn, fn=fn)\n",
        "\n"
      ],
      "execution_count": null,
      "outputs": [
        {
          "output_type": "stream",
          "name": "stdout",
          "text": [
            "322 89 497 92\n"
          ]
        },
        {
          "output_type": "display_data",
          "data": {
            "text/plain": [
              "<Figure size 432x288 with 3 Axes>"
            ],
            "image/png": "[encoded data removed]"
          },
          "metadata": {
            "needs_background": "light"
          }
        }
      ]
    },
    {
      "cell_type": "markdown",
      "metadata": {
        "id": "AtFk_vRd9wFh"
      },
      "source": [
        "\n",
        "Now that we have succesfully trained a model, we compare the accuracy of the `sentiment_model` to that of the baseline majority class classifier."
      ]
    },
    {
      "cell_type": "code",
      "metadata": {
        "id": "_mrhW-tBLxIu",
        "outputId": "309b6f04-6036-480a-eed4-f122a65952ac",
        "colab": {
          "base_uri": "https://localhost:8080/"
        }
      },
      "source": [
        "# use sklearns accuracy_score function to compute the accuracy of the model on the test set\n",
        "s1 = accuracy_score(products_test['sentiment'], products_test['predicted_sentiment'])\n",
        "s2 = accuracy_score(y_test, pred)\n",
        "print(s1)\n",
        "print(s2)"
      ],
      "execution_count": null,
      "outputs": [
        {
          "output_type": "stream",
          "name": "stdout",
          "text": [
            "0.586\n",
            "0.819\n"
          ]
        }
      ]
    },
    {
      "cell_type": "markdown",
      "metadata": {
        "id": "akfXBOStI6dJ"
      },
      "source": [
        "### Build a Classifier using word2vec features"
      ]
    },
    {
      "cell_type": "code",
      "metadata": {
        "id": "3SPfk5n_I51q",
        "outputId": "cd7493f4-6c66-4369-aef2-ab48346d5a19",
        "colab": {
          "base_uri": "https://localhost:8080/"
        }
      },
      "source": [
        "import gensim.downloader as api\n",
        "model = api.load(\"glove-twitter-100\")\n"
      ],
      "execution_count": null,
      "outputs": [
        {
          "output_type": "stream",
          "name": "stdout",
          "text": [
            "[==================================================] 100.0% 387.1/387.1MB downloaded\n"
          ]
        }
      ]
    },
    {
      "cell_type": "markdown",
      "metadata": {
        "id": "CUby_VyK-OtL"
      },
      "source": [
        "Now we will take each sentence and build a feature vector base on our Word2Vec model. \n",
        "\n",
        "For each sentence in the dataset, we will first split it into words (tokenize it) using the ``count_vectorizer.build_tokenizer()`` function. Then for each word, we will use word2vec to get a word embedding, and we will average these over the words in a review"
      ]
    },
    {
      "cell_type": "code",
      "metadata": {
        "id": "aPTwlpVtYbJ9"
      },
      "source": [
        "# word2vec model\n",
        "def get_average_word2vec(sentence, tokenizer, word2vec):\n",
        "    tokens = tokenizer(sentence)\n",
        "    v  =0\n",
        "    total = 0\n",
        "    for word in tokens:\n",
        "        if word in word2vec.vocab:\n",
        "            total += 1\n",
        "            vec = word2vec.word_vec(word) # TODO: get the word_vec from the word2vec model as in Problem 4\n",
        "            v += vec/np.linalg.norm(vec) \n",
        "    if total>0:\n",
        "        return v/total\n",
        "    return np.zeros(300)\n",
        "\n",
        "# The tokenizer we use was trained above\n",
        "X_train = np.array([get_average_word2vec(sentence, tokenizer, model) for sentence in products_train['review']])\n",
        "X_test = np.array([get_average_word2vec(sentence, tokenizer, model) for sentence in products_test['review']])\n",
        "\n",
        "# Train a logistic model \n",
        "sentiment_model_w2v = LogisticRegression()\n",
        "model = sentiment_model_w2v.fit(X_train, y_train)"
      ],
      "execution_count": null,
      "outputs": []
    },
    {
      "cell_type": "markdown",
      "metadata": {
        "id": "rHURNj92EG8i"
      },
      "source": [
        "Now we can train the model and assess it's accuracy on the\n",
        "test set."
      ]
    },
    {
      "cell_type": "code",
      "metadata": {
        "id": "ClN78yx714hs",
        "outputId": "013abc40-cd7d-4e24-b1fa-5b99b44ca241",
        "colab": {
          "base_uri": "https://localhost:8080/"
        }
      },
      "source": [
        "# use sklearns accuracy_score function to compute the accuracy of the model on the test set\n",
        "pred1 = sentiment_model_w2v.predict(X_test)\n",
        "model_acc = accuracy_score(y_test, pred1)\n",
        "print(model_acc)"
      ],
      "execution_count": null,
      "outputs": [
        {
          "output_type": "stream",
          "name": "stdout",
          "text": [
            "0.757\n"
          ]
        }
      ]
    },
    {
      "cell_type": "markdown",
      "metadata": {
        "id": "pYbS7i4-Mhf4"
      },
      "source": [
        "**Question:** Which model did better? Based on this, would you recommend one model over the other?\n",
        "\n",
        "*Your answer here*\n",
        "\n",
        "Looking at the accuracy of models for this problem statement, it is evident that the accuracy of bag of words is higher than baseline model. While logistic regression is a traditional method of performing sentiment analysis, word2vec model is a modern take on forming the relationship between words in a sentence stablishing the context of the problem. Word2vec requires more computational resources than logistic regression.\n",
        "\n",
        "Accuracy of logistic model is greater than word2vec in this case.\n",
        "\n",
        "**Remark**: There are many ways of taking sentences and featurizing them. Finding new effective ways of doing this is a hot topic of research and in the last few years after word2vec was introduced, several new models such as Glove, Bert, Elmo have been proposed (and buiilt at UW!). These models use Recurrent neural networks, and transformer architectures. \n"
      ]
    },
    {
      "cell_type": "markdown",
      "metadata": {
        "id": "fCiJuQnmEKsS"
      },
      "source": [
        "## Hyperparameter tuning to pick the best possible value of $\\lambda$.\n",
        "\n"
      ]
    },
    {
      "cell_type": "code",
      "source": [
        "from sklearn.model_selection import GridSearchCV\n",
        "\n",
        "# Creating a hyper-parameter grid\n",
        "hyper_grid = {'C': [0.001, 0.01, 0.1, 1, 10, 100]}\n",
        "\n",
        "# Building logistic regression model\n",
        "sentiment_model1 = LogisticRegression()\n",
        "\n",
        "# 5-fold cross validation \n",
        "grid_search = GridSearchCV(sentiment_model1, hyper_grid, cv=5)\n",
        "\n",
        "# Fit to the training set\n",
        "grid_search.fit(X_train, y_train)\n",
        "\n",
        "print(\"Hyperparameters:\", grid_search.best_params_)\n",
        "print(\"Accuracy:\", grid_search.best_score_)"
      ],
      "metadata": {
        "id": "ccCI-hp5jJqQ",
        "outputId": "5ce493ab-d97a-4e41-e826-4cd83b6a97d5",
        "colab": {
          "base_uri": "https://localhost:8080/"
        }
      },
      "execution_count": null,
      "outputs": [
        {
          "output_type": "stream",
          "name": "stderr",
          "text": [
            "/usr/local/lib/python3.8/dist-packages/sklearn/linear_model/_logistic.py:458: ConvergenceWarning: lbfgs failed to converge (status=1):\n",
            "STOP: TOTAL NO. of ITERATIONS REACHED LIMIT.\n",
            "\n",
            "Increase the number of iterations (max_iter) or scale the data as shown in:\n",
            "    https://scikit-learn.org/stable/modules/preprocessing.html\n",
            "Please also refer to the documentation for alternative solver options:\n",
            "    https://scikit-learn.org/stable/modules/linear_model.html#logistic-regression\n",
            "  n_iter_i = _check_optimize_result(\n",
            "/usr/local/lib/python3.8/dist-packages/sklearn/linear_model/_logistic.py:458: ConvergenceWarning: lbfgs failed to converge (status=1):\n",
            "STOP: TOTAL NO. of ITERATIONS REACHED LIMIT.\n",
            "\n",
            "Increase the number of iterations (max_iter) or scale the data as shown in:\n",
            "    https://scikit-learn.org/stable/modules/preprocessing.html\n",
            "Please also refer to the documentation for alternative solver options:\n",
            "    https://scikit-learn.org/stable/modules/linear_model.html#logistic-regression\n",
            "  n_iter_i = _check_optimize_result(\n",
            "/usr/local/lib/python3.8/dist-packages/sklearn/linear_model/_logistic.py:458: ConvergenceWarning: lbfgs failed to converge (status=1):\n",
            "STOP: TOTAL NO. of ITERATIONS REACHED LIMIT.\n",
            "\n",
            "Increase the number of iterations (max_iter) or scale the data as shown in:\n",
            "    https://scikit-learn.org/stable/modules/preprocessing.html\n",
            "Please also refer to the documentation for alternative solver options:\n",
            "    https://scikit-learn.org/stable/modules/linear_model.html#logistic-regression\n",
            "  n_iter_i = _check_optimize_result(\n",
            "/usr/local/lib/python3.8/dist-packages/sklearn/linear_model/_logistic.py:458: ConvergenceWarning: lbfgs failed to converge (status=1):\n",
            "STOP: TOTAL NO. of ITERATIONS REACHED LIMIT.\n",
            "\n",
            "Increase the number of iterations (max_iter) or scale the data as shown in:\n",
            "    https://scikit-learn.org/stable/modules/preprocessing.html\n",
            "Please also refer to the documentation for alternative solver options:\n",
            "    https://scikit-learn.org/stable/modules/linear_model.html#logistic-regression\n",
            "  n_iter_i = _check_optimize_result(\n",
            "/usr/local/lib/python3.8/dist-packages/sklearn/linear_model/_logistic.py:458: ConvergenceWarning: lbfgs failed to converge (status=1):\n",
            "STOP: TOTAL NO. of ITERATIONS REACHED LIMIT.\n",
            "\n",
            "Increase the number of iterations (max_iter) or scale the data as shown in:\n",
            "    https://scikit-learn.org/stable/modules/preprocessing.html\n",
            "Please also refer to the documentation for alternative solver options:\n",
            "    https://scikit-learn.org/stable/modules/linear_model.html#logistic-regression\n",
            "  n_iter_i = _check_optimize_result(\n"
          ]
        },
        {
          "output_type": "stream",
          "name": "stdout",
          "text": [
            "Best hyperparameters: {'C': 10}\n",
            "Accuracy: 0.787\n"
          ]
        },
        {
          "output_type": "stream",
          "name": "stderr",
          "text": [
            "/usr/local/lib/python3.8/dist-packages/sklearn/linear_model/_logistic.py:458: ConvergenceWarning: lbfgs failed to converge (status=1):\n",
            "STOP: TOTAL NO. of ITERATIONS REACHED LIMIT.\n",
            "\n",
            "Increase the number of iterations (max_iter) or scale the data as shown in:\n",
            "    https://scikit-learn.org/stable/modules/preprocessing.html\n",
            "Please also refer to the documentation for alternative solver options:\n",
            "    https://scikit-learn.org/stable/modules/linear_model.html#logistic-regression\n",
            "  n_iter_i = _check_optimize_result(\n",
            "/usr/local/lib/python3.8/dist-packages/sklearn/linear_model/_logistic.py:458: ConvergenceWarning: lbfgs failed to converge (status=1):\n",
            "STOP: TOTAL NO. of ITERATIONS REACHED LIMIT.\n",
            "\n",
            "Increase the number of iterations (max_iter) or scale the data as shown in:\n",
            "    https://scikit-learn.org/stable/modules/preprocessing.html\n",
            "Please also refer to the documentation for alternative solver options:\n",
            "    https://scikit-learn.org/stable/modules/linear_model.html#logistic-regression\n",
            "  n_iter_i = _check_optimize_result(\n"
          ]
        }
      ]
    }
  ]
}